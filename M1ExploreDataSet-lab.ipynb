import pandas as pd
dataset_url = "https://cf-courses-data.s3.us.cloud-object-storage.appdomain.cloud/IBM-DA0321EN-SkillsNetwork/LargeData/m1_survey_data.csv"
df_survey = pd.read_csv(dataset_url)
df_survey.head()
number_of_rows = df_survey.shape[0]
print(f"Number of rows in the dataset: {number_of_rows}")
print(df_survey.dtypes)
age_dtype = df_survey['Age'].dtype
print(f"The data type of the 'Age' column is: {age_dtype}")
mean_age = df_survey['Age'].mean()
print(f"Mean age of the survey participants: {mean_age}")
unique_countries = df_survey['Country'].nunique()
print(f"Number of unique countries in the survey: {unique_countries}")
